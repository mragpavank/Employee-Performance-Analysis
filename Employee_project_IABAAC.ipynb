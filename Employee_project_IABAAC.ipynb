{
 "cells": [
  {
   "cell_type": "code",
   "execution_count": 1,
   "metadata": {},
   "outputs": [],
   "source": [
    "#importing required libraries\n",
    "import pandas as pd\n",
    "import matplotlib.pyplot as plt\n",
    "import seaborn as sns\n",
    "import numpy as np"
   ]
  },
  {
   "cell_type": "code",
   "execution_count": 2,
   "metadata": {},
   "outputs": [],
   "source": [
    "#loading data\n",
    "data = pd.read_excel(\"data.xls\",encoding='utf-8')"
   ]
  },
  {
   "cell_type": "code",
   "execution_count": 3,
   "metadata": {},
   "outputs": [
    {
     "data": {
      "text/html": [
       "<div>\n",
       "<style scoped>\n",
       "    .dataframe tbody tr th:only-of-type {\n",
       "        vertical-align: middle;\n",
       "    }\n",
       "\n",
       "    .dataframe tbody tr th {\n",
       "        vertical-align: top;\n",
       "    }\n",
       "\n",
       "    .dataframe thead th {\n",
       "        text-align: right;\n",
       "    }\n",
       "</style>\n",
       "<table border=\"1\" class=\"dataframe\">\n",
       "  <thead>\n",
       "    <tr style=\"text-align: right;\">\n",
       "      <th></th>\n",
       "      <th>EmpNumber</th>\n",
       "      <th>Age</th>\n",
       "      <th>Gender</th>\n",
       "      <th>EducationBackground</th>\n",
       "      <th>MaritalStatus</th>\n",
       "      <th>EmpDepartment</th>\n",
       "      <th>EmpJobRole</th>\n",
       "      <th>BusinessTravelFrequency</th>\n",
       "      <th>DistanceFromHome</th>\n",
       "      <th>EmpEducationLevel</th>\n",
       "      <th>...</th>\n",
       "      <th>EmpRelationshipSatisfaction</th>\n",
       "      <th>TotalWorkExperienceInYears</th>\n",
       "      <th>TrainingTimesLastYear</th>\n",
       "      <th>EmpWorkLifeBalance</th>\n",
       "      <th>ExperienceYearsAtThisCompany</th>\n",
       "      <th>ExperienceYearsInCurrentRole</th>\n",
       "      <th>YearsSinceLastPromotion</th>\n",
       "      <th>YearsWithCurrManager</th>\n",
       "      <th>Attrition</th>\n",
       "      <th>PerformanceRating</th>\n",
       "    </tr>\n",
       "  </thead>\n",
       "  <tbody>\n",
       "    <tr>\n",
       "      <th>0</th>\n",
       "      <td>E1001000</td>\n",
       "      <td>32</td>\n",
       "      <td>Male</td>\n",
       "      <td>Marketing</td>\n",
       "      <td>Single</td>\n",
       "      <td>Sales</td>\n",
       "      <td>Sales Executive</td>\n",
       "      <td>Travel_Rarely</td>\n",
       "      <td>10</td>\n",
       "      <td>3</td>\n",
       "      <td>...</td>\n",
       "      <td>4</td>\n",
       "      <td>10</td>\n",
       "      <td>2</td>\n",
       "      <td>2</td>\n",
       "      <td>10</td>\n",
       "      <td>7</td>\n",
       "      <td>0</td>\n",
       "      <td>8</td>\n",
       "      <td>No</td>\n",
       "      <td>3</td>\n",
       "    </tr>\n",
       "    <tr>\n",
       "      <th>1</th>\n",
       "      <td>E1001006</td>\n",
       "      <td>47</td>\n",
       "      <td>Male</td>\n",
       "      <td>Marketing</td>\n",
       "      <td>Single</td>\n",
       "      <td>Sales</td>\n",
       "      <td>Sales Executive</td>\n",
       "      <td>Travel_Rarely</td>\n",
       "      <td>14</td>\n",
       "      <td>4</td>\n",
       "      <td>...</td>\n",
       "      <td>4</td>\n",
       "      <td>20</td>\n",
       "      <td>2</td>\n",
       "      <td>3</td>\n",
       "      <td>7</td>\n",
       "      <td>7</td>\n",
       "      <td>1</td>\n",
       "      <td>7</td>\n",
       "      <td>No</td>\n",
       "      <td>3</td>\n",
       "    </tr>\n",
       "    <tr>\n",
       "      <th>2</th>\n",
       "      <td>E1001007</td>\n",
       "      <td>40</td>\n",
       "      <td>Male</td>\n",
       "      <td>Life Sciences</td>\n",
       "      <td>Married</td>\n",
       "      <td>Sales</td>\n",
       "      <td>Sales Executive</td>\n",
       "      <td>Travel_Frequently</td>\n",
       "      <td>5</td>\n",
       "      <td>4</td>\n",
       "      <td>...</td>\n",
       "      <td>3</td>\n",
       "      <td>20</td>\n",
       "      <td>2</td>\n",
       "      <td>3</td>\n",
       "      <td>18</td>\n",
       "      <td>13</td>\n",
       "      <td>1</td>\n",
       "      <td>12</td>\n",
       "      <td>No</td>\n",
       "      <td>4</td>\n",
       "    </tr>\n",
       "    <tr>\n",
       "      <th>3</th>\n",
       "      <td>E1001009</td>\n",
       "      <td>41</td>\n",
       "      <td>Male</td>\n",
       "      <td>Human Resources</td>\n",
       "      <td>Divorced</td>\n",
       "      <td>Human Resources</td>\n",
       "      <td>Manager</td>\n",
       "      <td>Travel_Rarely</td>\n",
       "      <td>10</td>\n",
       "      <td>4</td>\n",
       "      <td>...</td>\n",
       "      <td>2</td>\n",
       "      <td>23</td>\n",
       "      <td>2</td>\n",
       "      <td>2</td>\n",
       "      <td>21</td>\n",
       "      <td>6</td>\n",
       "      <td>12</td>\n",
       "      <td>6</td>\n",
       "      <td>No</td>\n",
       "      <td>3</td>\n",
       "    </tr>\n",
       "    <tr>\n",
       "      <th>4</th>\n",
       "      <td>E1001010</td>\n",
       "      <td>60</td>\n",
       "      <td>Male</td>\n",
       "      <td>Marketing</td>\n",
       "      <td>Single</td>\n",
       "      <td>Sales</td>\n",
       "      <td>Sales Executive</td>\n",
       "      <td>Travel_Rarely</td>\n",
       "      <td>16</td>\n",
       "      <td>4</td>\n",
       "      <td>...</td>\n",
       "      <td>4</td>\n",
       "      <td>10</td>\n",
       "      <td>1</td>\n",
       "      <td>3</td>\n",
       "      <td>2</td>\n",
       "      <td>2</td>\n",
       "      <td>2</td>\n",
       "      <td>2</td>\n",
       "      <td>No</td>\n",
       "      <td>3</td>\n",
       "    </tr>\n",
       "  </tbody>\n",
       "</table>\n",
       "<p>5 rows × 28 columns</p>\n",
       "</div>"
      ],
      "text/plain": [
       "  EmpNumber  Age Gender EducationBackground MaritalStatus    EmpDepartment  \\\n",
       "0  E1001000   32   Male           Marketing        Single            Sales   \n",
       "1  E1001006   47   Male           Marketing        Single            Sales   \n",
       "2  E1001007   40   Male       Life Sciences       Married            Sales   \n",
       "3  E1001009   41   Male     Human Resources      Divorced  Human Resources   \n",
       "4  E1001010   60   Male           Marketing        Single            Sales   \n",
       "\n",
       "        EmpJobRole BusinessTravelFrequency  DistanceFromHome  \\\n",
       "0  Sales Executive           Travel_Rarely                10   \n",
       "1  Sales Executive           Travel_Rarely                14   \n",
       "2  Sales Executive       Travel_Frequently                 5   \n",
       "3          Manager           Travel_Rarely                10   \n",
       "4  Sales Executive           Travel_Rarely                16   \n",
       "\n",
       "   EmpEducationLevel        ...          EmpRelationshipSatisfaction  \\\n",
       "0                  3        ...                                    4   \n",
       "1                  4        ...                                    4   \n",
       "2                  4        ...                                    3   \n",
       "3                  4        ...                                    2   \n",
       "4                  4        ...                                    4   \n",
       "\n",
       "   TotalWorkExperienceInYears  TrainingTimesLastYear  EmpWorkLifeBalance  \\\n",
       "0                          10                      2                   2   \n",
       "1                          20                      2                   3   \n",
       "2                          20                      2                   3   \n",
       "3                          23                      2                   2   \n",
       "4                          10                      1                   3   \n",
       "\n",
       "   ExperienceYearsAtThisCompany  ExperienceYearsInCurrentRole  \\\n",
       "0                            10                             7   \n",
       "1                             7                             7   \n",
       "2                            18                            13   \n",
       "3                            21                             6   \n",
       "4                             2                             2   \n",
       "\n",
       "  YearsSinceLastPromotion  YearsWithCurrManager  Attrition  PerformanceRating  \n",
       "0                       0                     8         No                  3  \n",
       "1                       1                     7         No                  3  \n",
       "2                       1                    12         No                  4  \n",
       "3                      12                     6         No                  3  \n",
       "4                       2                     2         No                  3  \n",
       "\n",
       "[5 rows x 28 columns]"
      ]
     },
     "execution_count": 3,
     "metadata": {},
     "output_type": "execute_result"
    }
   ],
   "source": [
    "data.head()"
   ]
  },
  {
   "cell_type": "code",
   "execution_count": 4,
   "metadata": {},
   "outputs": [
    {
     "data": {
      "text/plain": [
       "(1200, 28)"
      ]
     },
     "execution_count": 4,
     "metadata": {},
     "output_type": "execute_result"
    }
   ],
   "source": [
    "data.shape"
   ]
  },
  {
   "cell_type": "code",
   "execution_count": 5,
   "metadata": {},
   "outputs": [
    {
     "data": {
      "text/plain": [
       "3    874\n",
       "2    194\n",
       "4    132\n",
       "Name: PerformanceRating, dtype: int64"
      ]
     },
     "execution_count": 5,
     "metadata": {},
     "output_type": "execute_result"
    }
   ],
   "source": [
    "#checking classes in target variable\n",
    "data.PerformanceRating.value_counts()"
   ]
  },
  {
   "cell_type": "code",
   "execution_count": 6,
   "metadata": {},
   "outputs": [
    {
     "data": {
      "text/plain": [
       "0"
      ]
     },
     "execution_count": 6,
     "metadata": {},
     "output_type": "execute_result"
    }
   ],
   "source": [
    "#checking for null values\n",
    "data.isnull().sum().sum()"
   ]
  },
  {
   "cell_type": "code",
   "execution_count": 7,
   "metadata": {},
   "outputs": [
    {
     "name": "stdout",
     "output_type": "stream",
     "text": [
      "EmpNumber\n",
      "Gender\n",
      "EducationBackground\n",
      "MaritalStatus\n",
      "EmpDepartment\n",
      "EmpJobRole\n",
      "BusinessTravelFrequency\n",
      "OverTime\n",
      "Attrition\n"
     ]
    }
   ],
   "source": [
    "#displaying catagorical features\n",
    "for features , datatype in zip(data.columns , data.dtypes):\n",
    "    if datatype == 'object':\n",
    "        print(features)"
   ]
  },
  {
   "cell_type": "code",
   "execution_count": 8,
   "metadata": {},
   "outputs": [
    {
     "data": {
      "text/plain": [
       "Life Sciences       492\n",
       "Medical             384\n",
       "Marketing           137\n",
       "Technical Degree    100\n",
       "Other                66\n",
       "Human Resources      21\n",
       "Name: EducationBackground, dtype: int64"
      ]
     },
     "execution_count": 8,
     "metadata": {},
     "output_type": "execute_result"
    }
   ],
   "source": [
    "#checking class count\n",
    "data.EducationBackground.value_counts()"
   ]
  },
  {
   "cell_type": "code",
   "execution_count": 9,
   "metadata": {},
   "outputs": [
    {
     "name": "stderr",
     "output_type": "stream",
     "text": [
      "/home/amit/.local/lib/python3.6/site-packages/scipy/stats/stats.py:1713: FutureWarning: Using a non-tuple sequence for multidimensional indexing is deprecated; use `arr[tuple(seq)]` instead of `arr[seq]`. In the future this will be interpreted as an array index, `arr[np.array(seq)]`, which will result either in an error or a different result.\n",
      "  return np.add.reduce(sorted[indexer] * weights, axis=axis) / sumval\n"
     ]
    },
    {
     "data": {
      "image/png": "[encoded data removed]",
      "text/plain": [
       "<Figure size 648x360 with 1 Axes>"
      ]
     },
     "metadata": {
      "needs_background": "light"
     },
     "output_type": "display_data"
    },
    {
     "name": "stdout",
     "output_type": "stream",
     "text": [
      "EducationBackground  PerformanceRating\n",
      "Human Resources      3                     16\n",
      "                     2                      3\n",
      "                     4                      2\n",
      "Life Sciences        3                    357\n",
      "                     2                     78\n",
      "                     4                     57\n",
      "Marketing            3                     94\n",
      "                     2                     29\n",
      "                     4                     14\n",
      "Medical              3                    281\n",
      "                     2                     63\n",
      "                     4                     40\n",
      "Other                3                     56\n",
      "                     4                      7\n",
      "                     2                      3\n",
      "Technical Degree     3                     70\n",
      "                     2                     18\n",
      "                     4                     12\n",
      "Name: PerformanceRating, dtype: int64\n"
     ]
    }
   ],
   "source": [
    "#relationship between target and EducationBackground\n",
    "from matplotlib import rcParams\n",
    "rcParams['figure.figsize'] = 9,5\n",
    "sns.barplot(x='EducationBackground',y='PerformanceRating', hue=\"PerformanceRating\", data=data,color = 'cyan', edgecolor = 'green')\n",
    "plt.legend(loc='upper left')\n",
    "plt.show()\n",
    "print(data.groupby('EducationBackground').PerformanceRating.value_counts())"
   ]
  },
  {
   "cell_type": "code",
   "execution_count": 10,
   "metadata": {},
   "outputs": [
    {
     "data": {
      "image/png": "[encoded data removed]",
      "text/plain": [
       "<Figure size 648x360 with 1 Axes>"
      ]
     },
     "metadata": {
      "needs_background": "light"
     },
     "output_type": "display_data"
    },
    {
     "name": "stdout",
     "output_type": "stream",
     "text": [
      "Gender  PerformanceRating\n",
      "Female  3                    349\n",
      "        2                     75\n",
      "        4                     51\n",
      "Male    3                    525\n",
      "        2                    119\n",
      "        4                     81\n",
      "Name: PerformanceRating, dtype: int64\n"
     ]
    }
   ],
   "source": [
    "#plotting images with colors\n",
    "#relationship between target and Gender\n",
    "from matplotlib import rcParams\n",
    "rcParams['figure.figsize'] = 9,5\n",
    "sns.barplot(x='Gender',y='PerformanceRating', hue=\"PerformanceRating\", data=data,color = 'cyan', edgecolor = 'green')\n",
    "plt.legend(loc='upper left')\n",
    "plt.show()\n",
    "print(data.groupby('Gender').PerformanceRating.value_counts())"
   ]
  },
  {
   "cell_type": "code",
   "execution_count": 11,
   "metadata": {},
   "outputs": [
    {
     "data": {
      "image/png": "[encoded data removed]",
      "text/plain": [
       "<Figure size 648x360 with 1 Axes>"
      ]
     },
     "metadata": {
      "needs_background": "light"
     },
     "output_type": "display_data"
    },
    {
     "name": "stdout",
     "output_type": "stream",
     "text": [
      "MaritalStatus  PerformanceRating\n",
      "Divorced       3                    205\n",
      "               2                     37\n",
      "               4                     26\n",
      "Married        3                    393\n",
      "               2                    100\n",
      "               4                     55\n",
      "Single         3                    276\n",
      "               2                     57\n",
      "               4                     51\n",
      "Name: PerformanceRating, dtype: int64\n"
     ]
    }
   ],
   "source": [
    "#relationship between target and MaritalStatus\n",
    "from matplotlib import rcParams\n",
    "rcParams['figure.figsize'] = 9,5\n",
    "sns.barplot(x='MaritalStatus',y='PerformanceRating', hue=\"Gender\", data=data,color = 'cyan', edgecolor = 'green')\n",
    "plt.legend(loc='upper left')\n",
    "plt.show()\n",
    "print(data.groupby('MaritalStatus').PerformanceRating.value_counts())"
   ]
  },
  {
   "cell_type": "code",
   "execution_count": 12,
   "metadata": {},
   "outputs": [
    {
     "data": {
      "text/plain": [
       "Sales                     373\n",
       "Development               361\n",
       "Research & Development    343\n",
       "Human Resources            54\n",
       "Finance                    49\n",
       "Data Science               20\n",
       "Name: EmpDepartment, dtype: int64"
      ]
     },
     "execution_count": 12,
     "metadata": {},
     "output_type": "execute_result"
    }
   ],
   "source": [
    "data.EmpDepartment.value_counts()"
   ]
  },
  {
   "cell_type": "code",
   "execution_count": 13,
   "metadata": {},
   "outputs": [
    {
     "data": {
      "image/png": "[encoded data removed]",
      "text/plain": [
       "<Figure size 864x360 with 1 Axes>"
      ]
     },
     "metadata": {
      "needs_background": "light"
     },
     "output_type": "display_data"
    },
    {
     "name": "stdout",
     "output_type": "stream",
     "text": [
      "EmpDepartment           PerformanceRating\n",
      "Data Science            3                     17\n",
      "                        4                      2\n",
      "                        2                      1\n",
      "Development             3                    304\n",
      "                        4                     44\n",
      "                        2                     13\n",
      "Finance                 3                     30\n",
      "                        2                     15\n",
      "                        4                      4\n",
      "Human Resources         3                     38\n",
      "                        2                     10\n",
      "                        4                      6\n",
      "Research & Development  3                    234\n",
      "                        2                     68\n",
      "                        4                     41\n",
      "Sales                   3                    251\n",
      "                        2                     87\n",
      "                        4                     35\n",
      "Name: PerformanceRating, dtype: int64\n"
     ]
    }
   ],
   "source": [
    "#relationship between target and EmpDepartment\n",
    "from matplotlib import rcParams\n",
    "rcParams['figure.figsize'] = 12,5\n",
    "sns.barplot(x='EmpDepartment',y='PerformanceRating',hue='PerformanceRating' ,data=data,color = 'cyan', edgecolor = 'green')\n",
    "plt.show()\n",
    "print(data.groupby('EmpDepartment').PerformanceRating.value_counts())"
   ]
  },
  {
   "cell_type": "code",
   "execution_count": 14,
   "metadata": {},
   "outputs": [
    {
     "name": "stderr",
     "output_type": "stream",
     "text": [
      "Using TensorFlow backend.\n"
     ]
    }
   ],
   "source": [
    "import keras\n",
    "from keras.preprocessing.image import load_img"
   ]
  },
  {
   "cell_type": "code",
   "execution_count": 15,
   "metadata": {},
   "outputs": [],
   "source": [
    "img = load_img(\"EmplRatingDepart.png\")"
   ]
  },
  {
   "cell_type": "code",
   "execution_count": 16,
   "metadata": {},
   "outputs": [
    {
     "data": {
      "image/png": "[encoded data removed]",
      "text/plain": [
       "<Figure size 720x576 with 1 Axes>"
      ]
     },
     "metadata": {
      "needs_background": "light"
     },
     "output_type": "display_data"
    }
   ],
   "source": [
    "from matplotlib import rcParams\n",
    "rcParams['figure.figsize'] = 10,8\n",
    "plt.imshow(img)\n",
    "plt.show()"
   ]
  },
  {
   "cell_type": "code",
   "execution_count": 17,
   "metadata": {},
   "outputs": [],
   "source": [
    "d = data[['PerformanceRating','EmpDepartment']][data.PerformanceRating==2]"
   ]
  },
  {
   "cell_type": "code",
   "execution_count": 18,
   "metadata": {},
   "outputs": [],
   "source": [
    "d['count'] = np.ones(d.shape[0])"
   ]
  },
  {
   "cell_type": "code",
   "execution_count": 19,
   "metadata": {},
   "outputs": [
    {
     "data": {
      "text/plain": [
       "PerformanceRating      int64\n",
       "EmpDepartment         object\n",
       "count                float64\n",
       "dtype: object"
      ]
     },
     "execution_count": 19,
     "metadata": {},
     "output_type": "execute_result"
    }
   ],
   "source": [
    "d.dtypes"
   ]
  },
  {
   "cell_type": "code",
   "execution_count": 20,
   "metadata": {},
   "outputs": [
    {
     "data": {
      "text/plain": [
       "Sales Executive              270\n",
       "Developer                    236\n",
       "Manager R&D                   94\n",
       "Research Scientist            77\n",
       "Sales Representative          69\n",
       "Laboratory Technician         64\n",
       "Senior Developer              52\n",
       "Manager                       51\n",
       "Finance Manager               49\n",
       "Human Resources               45\n",
       "Technical Lead                38\n",
       "Healthcare Representative     33\n",
       "Manufacturing Director        33\n",
       "Data Scientist                20\n",
       "Research Director             19\n",
       "Business Analyst              16\n",
       "Senior Manager R&D            15\n",
       "Delivery Manager              12\n",
       "Technical Architect            7\n",
       "Name: EmpJobRole, dtype: int64"
      ]
     },
     "execution_count": 20,
     "metadata": {},
     "output_type": "execute_result"
    }
   ],
   "source": [
    "data.EmpJobRole.value_counts()"
   ]
  },
  {
   "cell_type": "code",
   "execution_count": 21,
   "metadata": {},
   "outputs": [
    {
     "name": "stderr",
     "output_type": "stream",
     "text": [
      "/home/amit/.local/lib/python3.6/site-packages/scipy/stats/stats.py:1713: FutureWarning: Using a non-tuple sequence for multidimensional indexing is deprecated; use `arr[tuple(seq)]` instead of `arr[seq]`. In the future this will be interpreted as an array index, `arr[np.array(seq)]`, which will result either in an error or a different result.\n",
      "  return np.add.reduce(sorted[indexer] * weights, axis=axis) / sumval\n"
     ]
    },
    {
     "data": {
      "image/png": "[encoded data removed]",
      "text/plain": [
       "<Figure size 1800x720 with 1 Axes>"
      ]
     },
     "metadata": {
      "needs_background": "light"
     },
     "output_type": "display_data"
    },
    {
     "name": "stdout",
     "output_type": "stream",
     "text": [
      "EmpJobRole                 PerformanceRating\n",
      "Business Analyst           3                     13\n",
      "                           4                      3\n",
      "Data Scientist             3                     17\n",
      "                           4                      2\n",
      "                           2                      1\n",
      "Delivery Manager           3                     12\n",
      "Developer                  3                    199\n",
      "                           4                     31\n",
      "                           2                      6\n",
      "Finance Manager            3                     30\n",
      "                           2                     15\n",
      "                           4                      4\n",
      "Healthcare Representative  3                     22\n",
      "                           2                      8\n",
      "                           4                      3\n",
      "Human Resources            3                     31\n",
      "                           2                      9\n",
      "                           4                      5\n",
      "Laboratory Technician      3                     45\n",
      "                           2                     14\n",
      "                           4                      5\n",
      "Manager                    3                     29\n",
      "                           2                     12\n",
      "                           4                     10\n",
      "Manager R&D                3                     66\n",
      "                           2                     17\n",
      "                           4                     11\n",
      "Manufacturing Director     3                     28\n",
      "                           2                      3\n",
      "                           4                      2\n",
      "Research Director          3                     11\n",
      "                           2                      5\n",
      "                           4                      3\n",
      "Research Scientist         3                     46\n",
      "                           2                     17\n",
      "                           4                     14\n",
      "Sales Executive            3                    181\n",
      "                           2                     64\n",
      "                           4                     25\n",
      "Sales Representative       3                     54\n",
      "                           2                     12\n",
      "                           4                      3\n",
      "Senior Developer           3                     40\n",
      "                           2                      6\n",
      "                           4                      6\n",
      "Senior Manager R&D         3                     10\n",
      "                           2                      4\n",
      "                           4                      1\n",
      "Technical Architect        3                      7\n",
      "Technical Lead             3                     33\n",
      "                           4                      4\n",
      "                           2                      1\n",
      "Name: PerformanceRating, dtype: int64\n"
     ]
    }
   ],
   "source": [
    "#relationship between target and EmpJobRole\n",
    "from matplotlib import rcParams\n",
    "rcParams['figure.figsize'] = 25,10\n",
    "sns.barplot(x='EmpJobRole',y='PerformanceRating',data=data)\n",
    "sns.despine(left=True, bottom=True)\n",
    "plt.show()\n",
    "print(data.groupby('EmpJobRole').PerformanceRating.value_counts())"
   ]
  },
  {
   "cell_type": "code",
   "execution_count": 22,
   "metadata": {},
   "outputs": [
    {
     "data": {
      "text/plain": [
       "Travel_Rarely        846\n",
       "Travel_Frequently    222\n",
       "Non-Travel           132\n",
       "Name: BusinessTravelFrequency, dtype: int64"
      ]
     },
     "execution_count": 22,
     "metadata": {},
     "output_type": "execute_result"
    }
   ],
   "source": [
    "data.BusinessTravelFrequency.value_counts()"
   ]
  },
  {
   "cell_type": "code",
   "execution_count": 23,
   "metadata": {},
   "outputs": [
    {
     "data": {
      "image/png": "[encoded data removed]",
      "text/plain": [
       "<Figure size 504x360 with 1 Axes>"
      ]
     },
     "metadata": {
      "needs_background": "light"
     },
     "output_type": "display_data"
    },
    {
     "name": "stdout",
     "output_type": "stream",
     "text": [
      "BusinessTravelFrequency  PerformanceRating\n",
      "Non-Travel               3                     93\n",
      "                         2                     21\n",
      "                         4                     18\n",
      "Travel_Frequently        3                    154\n",
      "                         2                     37\n",
      "                         4                     31\n",
      "Travel_Rarely            3                    627\n",
      "                         2                    136\n",
      "                         4                     83\n",
      "Name: PerformanceRating, dtype: int64\n"
     ]
    }
   ],
   "source": [
    "#relationship between target and BusinessTravelFrequency\n",
    "from matplotlib import rcParams\n",
    "rcParams['figure.figsize'] = 7,5\n",
    "sns.barplot(x='BusinessTravelFrequency',y='PerformanceRating',hue='OverTime' ,data=data,color = 'cyan', edgecolor = 'green')\n",
    "plt.show()\n",
    "print(data.groupby('BusinessTravelFrequency').PerformanceRating.value_counts())"
   ]
  },
  {
   "cell_type": "code",
   "execution_count": 24,
   "metadata": {},
   "outputs": [
    {
     "data": {
      "text/plain": [
       "No     847\n",
       "Yes    353\n",
       "Name: OverTime, dtype: int64"
      ]
     },
     "execution_count": 24,
     "metadata": {},
     "output_type": "execute_result"
    }
   ],
   "source": [
    "data.OverTime.value_counts()"
   ]
  },
  {
   "cell_type": "code",
   "execution_count": 25,
   "metadata": {},
   "outputs": [
    {
     "data": {
      "text/plain": [
       "No     1022\n",
       "Yes     178\n",
       "Name: Attrition, dtype: int64"
      ]
     },
     "execution_count": 25,
     "metadata": {},
     "output_type": "execute_result"
    }
   ],
   "source": [
    "data.Attrition.value_counts()"
   ]
  },
  {
   "cell_type": "code",
   "execution_count": 26,
   "metadata": {},
   "outputs": [
    {
     "data": {
      "image/png": "[encoded data removed]",
      "text/plain": [
       "<Figure size 504x360 with 1 Axes>"
      ]
     },
     "metadata": {
      "needs_background": "light"
     },
     "output_type": "display_data"
    },
    {
     "name": "stdout",
     "output_type": "stream",
     "text": [
      "Attrition  PerformanceRating\n",
      "No         3                    750\n",
      "           2                    158\n",
      "           4                    114\n",
      "Yes        3                    124\n",
      "           2                     36\n",
      "           4                     18\n",
      "Name: PerformanceRating, dtype: int64\n"
     ]
    }
   ],
   "source": [
    "#relationship between target and Attrition\n",
    "from matplotlib import rcParams\n",
    "rcParams['figure.figsize'] = 7,5\n",
    "sns.barplot(x='Attrition',y='PerformanceRating',hue='OverTime' ,data=data, color = 'cyan', edgecolor = 'green')\n",
    "plt.show()\n",
    "print(data.groupby('Attrition').PerformanceRating.value_counts())"
   ]
  },
  {
   "cell_type": "code",
   "execution_count": null,
   "metadata": {},
   "outputs": [],
   "source": []
  },
  {
   "cell_type": "code",
   "execution_count": 27,
   "metadata": {},
   "outputs": [],
   "source": [
    "#assinging data\n",
    "df = data"
   ]
  },
  {
   "cell_type": "code",
   "execution_count": 28,
   "metadata": {},
   "outputs": [],
   "source": [
    "#handeling catagorical data\n",
    "from sklearn.preprocessing import LabelEncoder\n",
    "labelEncoder = LabelEncoder()\n",
    "df.Gender = labelEncoder.fit_transform(df.Gender)\n",
    "df.EducationBackground = labelEncoder.fit_transform(df.EducationBackground)\n",
    "df.MaritalStatus = labelEncoder.fit_transform(df.MaritalStatus)\n",
    "df.EmpDepartment = labelEncoder.fit_transform(df.EmpDepartment)\n",
    "df.BusinessTravelFrequency = labelEncoder.fit_transform(df.BusinessTravelFrequency)\n",
    "df.Attrition = labelEncoder.fit_transform(df.Attrition)\n",
    "df.OverTime = labelEncoder.fit_transform(df.OverTime)"
   ]
  },
  {
   "cell_type": "code",
   "execution_count": 29,
   "metadata": {},
   "outputs": [],
   "source": [
    "#creaing dummy variables\n",
    "EmpJobRole_dummy = pd.get_dummies(df.EmpJobRole).drop('Technical Architect',axis=1)"
   ]
  },
  {
   "cell_type": "code",
   "execution_count": 30,
   "metadata": {},
   "outputs": [],
   "source": [
    "#concating dummy variables to dataframe\n",
    "df = df.drop(\"EmpJobRole\",axis=1)\n",
    "df = pd.concat([df , EmpJobRole_dummy],axis=1)"
   ]
  },
  {
   "cell_type": "code",
   "execution_count": 31,
   "metadata": {},
   "outputs": [
    {
     "data": {
      "text/plain": [
       "(1200, 45)"
      ]
     },
     "execution_count": 31,
     "metadata": {},
     "output_type": "execute_result"
    }
   ],
   "source": [
    "df.shape"
   ]
  },
  {
   "cell_type": "code",
   "execution_count": 32,
   "metadata": {},
   "outputs": [
    {
     "name": "stdout",
     "output_type": "stream",
     "text": [
      "Requirement already up-to-date: scikit-learn in /home/amit/.local/lib/python2.7/site-packages (0.20.1)\n",
      "Requirement already satisfied, skipping upgrade: scipy>=0.13.3 in /home/amit/.local/lib/python2.7/site-packages (from scikit-learn) (1.1.0)\n",
      "Requirement already satisfied, skipping upgrade: numpy>=1.8.2 in /home/amit/.local/lib/python2.7/site-packages (from scikit-learn) (1.15.4)\n",
      "Requirement already up-to-date: scikit-learn in /home/amit/.local/lib/python2.7/site-packages (0.20.1)\n",
      "Requirement already satisfied, skipping upgrade: scipy>=0.13.3 in /home/amit/.local/lib/python2.7/site-packages (from scikit-learn) (1.1.0)\n",
      "Requirement already satisfied, skipping upgrade: numpy>=1.8.2 in /home/amit/.local/lib/python2.7/site-packages (from scikit-learn) (1.15.4)\n"
     ]
    }
   ],
   "source": [
    "!pip install -U scikit-learn\n",
    "!pip install -U scikit-learn\n",
    "#setting up dependent and independent variables\n",
    "X = df.drop(['PerformanceRating','EmpNumber'],axis=1)\n",
    "y = df['PerformanceRating']"
   ]
  },
  {
   "cell_type": "code",
   "execution_count": 33,
   "metadata": {},
   "outputs": [],
   "source": [
    "#saving the column names\n",
    "col = X.columns"
   ]
  },
  {
   "cell_type": "code",
   "execution_count": 34,
   "metadata": {},
   "outputs": [
    {
     "name": "stderr",
     "output_type": "stream",
     "text": [
      "/home/amit/.local/lib/python3.6/site-packages/ipykernel_launcher.py:3: DataConversionWarning: Data with input dtype uint8, int64 were all converted to float64 by the scale function.\n",
      "  This is separate from the ipykernel package so we can avoid doing imports until\n"
     ]
    }
   ],
   "source": [
    "#normalization of data\n",
    "from sklearn.preprocessing import scale\n",
    "X = scale(X)"
   ]
  },
  {
   "cell_type": "code",
   "execution_count": 35,
   "metadata": {},
   "outputs": [
    {
     "data": {
      "text/plain": [
       "numpy.ndarray"
      ]
     },
     "execution_count": 35,
     "metadata": {},
     "output_type": "execute_result"
    }
   ],
   "source": [
    "type(X)"
   ]
  },
  {
   "cell_type": "code",
   "execution_count": 36,
   "metadata": {},
   "outputs": [],
   "source": [
    "X = pd.DataFrame(data=X , columns=col)"
   ]
  },
  {
   "cell_type": "code",
   "execution_count": 37,
   "metadata": {},
   "outputs": [],
   "source": [
    "#splitting data into train test\n",
    "from sklearn.model_selection import train_test_split\n",
    "X_train, X_test, y_train, y_test = train_test_split(X, y, test_size=0.20, random_state=42)"
   ]
  },
  {
   "cell_type": "code",
   "execution_count": 38,
   "metadata": {},
   "outputs": [],
   "source": [
    "#defining model\n",
    "from sklearn.ensemble import RandomForestClassifier\n",
    "random_forest_model = RandomForestClassifier(n_estimators=17)"
   ]
  },
  {
   "cell_type": "code",
   "execution_count": 39,
   "metadata": {},
   "outputs": [
    {
     "data": {
      "text/plain": [
       "RandomForestClassifier(bootstrap=True, class_weight=None, criterion='gini',\n",
       "            max_depth=None, max_features='auto', max_leaf_nodes=None,\n",
       "            min_impurity_decrease=0.0, min_impurity_split=None,\n",
       "            min_samples_leaf=1, min_samples_split=2,\n",
       "            min_weight_fraction_leaf=0.0, n_estimators=17, n_jobs=None,\n",
       "            oob_score=False, random_state=None, verbose=0,\n",
       "            warm_start=False)"
      ]
     },
     "execution_count": 39,
     "metadata": {},
     "output_type": "execute_result"
    }
   ],
   "source": [
    "#training the model\n",
    "random_forest_model.fit(X_train , y_train)"
   ]
  },
  {
   "cell_type": "code",
   "execution_count": 40,
   "metadata": {},
   "outputs": [],
   "source": [
    "#predicting\n",
    "y_predict = random_forest_model.predict(X_test)"
   ]
  },
  {
   "cell_type": "code",
   "execution_count": 41,
   "metadata": {},
   "outputs": [
    {
     "name": "stdout",
     "output_type": "stream",
     "text": [
      "0.925\n"
     ]
    }
   ],
   "source": [
    "#accuaray checking\n",
    "from sklearn.metrics import accuracy_score , confusion_matrix\n",
    "random_forest_model_acc = accuracy_score(y_test , y_predict)\n",
    "print(random_forest_model_acc)"
   ]
  },
  {
   "cell_type": "code",
   "execution_count": 42,
   "metadata": {},
   "outputs": [
    {
     "data": {
      "text/plain": [
       "array([[ 25,   4,   0],\n",
       "       [  2, 182,   0],\n",
       "       [  0,  12,  15]])"
      ]
     },
     "execution_count": 42,
     "metadata": {},
     "output_type": "execute_result"
    }
   ],
   "source": [
    "confusion_matrix(y_test , y_predict)"
   ]
  },
  {
   "cell_type": "code",
   "execution_count": 43,
   "metadata": {},
   "outputs": [],
   "source": [
    "#getting feature importance for feature selection\n",
    "importance =random_forest_model.feature_importances_"
   ]
  },
  {
   "cell_type": "code",
   "execution_count": 44,
   "metadata": {},
   "outputs": [],
   "source": [
    "#creating dataframe for feature importance\n",
    "feature_importance = pd.DataFrame({\"Columns\":col , \"importance\":importance})\n",
    "feature_importance = feature_importance.sort_values('importance',ascending=True)"
   ]
  },
  {
   "cell_type": "code",
   "execution_count": 45,
   "metadata": {},
   "outputs": [
    {
     "data": {
      "image/png": "[encoded data removed]",
      "text/plain": [
       "<Figure size 720x720 with 1 Axes>"
      ]
     },
     "metadata": {
      "needs_background": "light"
     },
     "output_type": "display_data"
    }
   ],
   "source": [
    "#visulizing feature importance \n",
    "import matplotlib.pyplot as plt\n",
    "from matplotlib import rcParams\n",
    "rcParams['figure.figsize'] = 10,10\n",
    "plt.barh(range(len(feature_importance['importance'])), feature_importance['importance'])\n",
    "plt.yticks(range(len(feature_importance['Columns'])), feature_importance['Columns'],color='blue',fontsize=10)\n",
    "plt.xlabel(\"importance \",fontsize=35)\n",
    "plt.ylabel(\"features\",fontsize=35)\n",
    "plt.show()"
   ]
  },
  {
   "cell_type": "code",
   "execution_count": 46,
   "metadata": {},
   "outputs": [],
   "source": [
    "#removing less importance features\n",
    "cols = EmpJobRole_dummy.columns"
   ]
  },
  {
   "cell_type": "code",
   "execution_count": 47,
   "metadata": {},
   "outputs": [],
   "source": [
    "#selected features\n",
    "XX_train = X_train.drop(cols , axis=1)\n",
    "XX_test  = X_test.drop(cols , axis=1)"
   ]
  },
  {
   "cell_type": "code",
   "execution_count": 48,
   "metadata": {},
   "outputs": [],
   "source": [
    "XX_train = XX_train.drop(['OverTime','Attrition'] , axis=1)\n",
    "XX_test  = XX_test.drop(['OverTime','Attrition'] , axis=1)"
   ]
  },
  {
   "cell_type": "code",
   "execution_count": 49,
   "metadata": {},
   "outputs": [],
   "source": [
    "#defining model\n",
    "random_forest_model2 = RandomForestClassifier(n_estimators=19)"
   ]
  },
  {
   "cell_type": "code",
   "execution_count": 50,
   "metadata": {},
   "outputs": [
    {
     "data": {
      "text/plain": [
       "RandomForestClassifier(bootstrap=True, class_weight=None, criterion='gini',\n",
       "            max_depth=None, max_features='auto', max_leaf_nodes=None,\n",
       "            min_impurity_decrease=0.0, min_impurity_split=None,\n",
       "            min_samples_leaf=1, min_samples_split=2,\n",
       "            min_weight_fraction_leaf=0.0, n_estimators=19, n_jobs=None,\n",
       "            oob_score=False, random_state=None, verbose=0,\n",
       "            warm_start=False)"
      ]
     },
     "execution_count": 50,
     "metadata": {},
     "output_type": "execute_result"
    }
   ],
   "source": [
    "#training model\n",
    "random_forest_model2.fit(XX_train , y_train)"
   ]
  },
  {
   "cell_type": "code",
   "execution_count": 51,
   "metadata": {},
   "outputs": [],
   "source": [
    "#predicting\n",
    "yy_predict = random_forest_model2.predict(XX_test)"
   ]
  },
  {
   "cell_type": "code",
   "execution_count": 52,
   "metadata": {},
   "outputs": [
    {
     "name": "stdout",
     "output_type": "stream",
     "text": [
      "0.9416666666666667\n"
     ]
    }
   ],
   "source": [
    "random_forest_model2_acc = accuracy_score(y_test , yy_predict)\n",
    "print(random_forest_model2_acc)"
   ]
  },
  {
   "cell_type": "code",
   "execution_count": 53,
   "metadata": {},
   "outputs": [
    {
     "data": {
      "text/plain": [
       "array([[ 25,   4,   0],\n",
       "       [  2, 182,   0],\n",
       "       [  0,   8,  19]])"
      ]
     },
     "execution_count": 53,
     "metadata": {},
     "output_type": "execute_result"
    }
   ],
   "source": [
    "confusion_matrix(y_test , yy_predict)"
   ]
  },
  {
   "cell_type": "code",
   "execution_count": 54,
   "metadata": {},
   "outputs": [],
   "source": [
    "from sklearn.neighbors import KNeighborsClassifier\n",
    "knn_model3 = KNeighborsClassifier(n_neighbors=5)"
   ]
  },
  {
   "cell_type": "code",
   "execution_count": 55,
   "metadata": {},
   "outputs": [
    {
     "data": {
      "text/plain": [
       "KNeighborsClassifier(algorithm='auto', leaf_size=30, metric='minkowski',\n",
       "           metric_params=None, n_jobs=None, n_neighbors=5, p=2,\n",
       "           weights='uniform')"
      ]
     },
     "execution_count": 55,
     "metadata": {},
     "output_type": "execute_result"
    }
   ],
   "source": [
    "knn_model3.fit(XX_train , y_train)"
   ]
  },
  {
   "cell_type": "code",
   "execution_count": 56,
   "metadata": {},
   "outputs": [],
   "source": [
    "y_predict_knn = knn_model3.predict(XX_test)"
   ]
  },
  {
   "cell_type": "code",
   "execution_count": 57,
   "metadata": {},
   "outputs": [
    {
     "name": "stdout",
     "output_type": "stream",
     "text": [
      "0.8125\n"
     ]
    }
   ],
   "source": [
    "knn_model3_acc=accuracy_score(y_test , y_predict_knn)\n",
    "print(knn_model3_acc)"
   ]
  },
  {
   "cell_type": "code",
   "execution_count": 58,
   "metadata": {},
   "outputs": [
    {
     "data": {
      "text/plain": [
       "array([[  9,  20,   0],\n",
       "       [  6, 176,   2],\n",
       "       [  2,  15,  10]])"
      ]
     },
     "execution_count": 58,
     "metadata": {},
     "output_type": "execute_result"
    }
   ],
   "source": [
    "confusion_matrix(y_test , y_predict_knn)"
   ]
  },
  {
   "cell_type": "code",
   "execution_count": 59,
   "metadata": {},
   "outputs": [
    {
     "data": {
      "text/html": [
       "<div>\n",
       "<style scoped>\n",
       "    .dataframe tbody tr th:only-of-type {\n",
       "        vertical-align: middle;\n",
       "    }\n",
       "\n",
       "    .dataframe tbody tr th {\n",
       "        vertical-align: top;\n",
       "    }\n",
       "\n",
       "    .dataframe thead th {\n",
       "        text-align: right;\n",
       "    }\n",
       "</style>\n",
       "<table border=\"1\" class=\"dataframe\">\n",
       "  <thead>\n",
       "    <tr style=\"text-align: right;\">\n",
       "      <th></th>\n",
       "      <th>model</th>\n",
       "      <th>accuracy</th>\n",
       "    </tr>\n",
       "  </thead>\n",
       "  <tbody>\n",
       "    <tr>\n",
       "      <th>0</th>\n",
       "      <td>random_forest_model-1</td>\n",
       "      <td>0.925000</td>\n",
       "    </tr>\n",
       "    <tr>\n",
       "      <th>1</th>\n",
       "      <td>random_forest_model-2</td>\n",
       "      <td>0.941667</td>\n",
       "    </tr>\n",
       "    <tr>\n",
       "      <th>2</th>\n",
       "      <td>knn_model-3</td>\n",
       "      <td>0.812500</td>\n",
       "    </tr>\n",
       "  </tbody>\n",
       "</table>\n",
       "</div>"
      ],
      "text/plain": [
       "                   model  accuracy\n",
       "0  random_forest_model-1  0.925000\n",
       "1  random_forest_model-2  0.941667\n",
       "2            knn_model-3  0.812500"
      ]
     },
     "execution_count": 59,
     "metadata": {},
     "output_type": "execute_result"
    }
   ],
   "source": [
    "#model selection\n",
    "pd.DataFrame({\"model\":[\"random_forest_model-1\",\"random_forest_model-2\",\"knn_model-3\"],\n",
    "             \"accuracy\":[random_forest_model_acc,random_forest_model2_acc,knn_model3_acc]})"
   ]
  },
  {
   "cell_type": "markdown",
   "metadata": {},
   "source": [
    "### We choose random_forest_model - 2 with highest accuracy"
   ]
  },
  {
   "cell_type": "code",
   "execution_count": null,
   "metadata": {},
   "outputs": [],
   "source": []
  }
 ],
 "metadata": {
  "kernelspec": {
   "display_name": "Python 3",
   "language": "python",
   "name": "python3"
  },
  "language_info": {
   "codemirror_mode": {
    "name": "ipython",
    "version": 3
   },
   "file_extension": ".py",
   "mimetype": "text/x-python",
   "name": "python",
   "nbconvert_exporter": "python",
   "pygments_lexer": "ipython3",
   "version": "3.6.7"
  }
 },
 "nbformat": 4,
 "nbformat_minor": 2
}
